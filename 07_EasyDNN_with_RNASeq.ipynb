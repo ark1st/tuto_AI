{
  "nbformat": 4,
  "nbformat_minor": 0,
  "metadata": {
    "colab": {
      "provenance": [],
      "gpuType": "T4"
    },
    "kernelspec": {
      "name": "python3",
      "display_name": "Python 3"
    },
    "language_info": {
      "name": "python"
    },
    "accelerator": "GPU"
  },
  "cells": [
    {
      "cell_type": "code",
      "execution_count": null,
      "metadata": {
        "id": "g5TEDU_Tt4qX"
      },
      "outputs": [],
      "source": [
        "from tensorflow import keras\n",
        "from tensorflow.keras.models import Sequential\n",
        "from tensorflow.keras.layers import Dense\n",
        "from tensorflow.keras.optimizers import SGD, Adam\n",
        "\n",
        "\n",
        "%matplotlib inline\n",
        "import matplotlib.pyplot as plt\n",
        "import numpy as np\n",
        "import pandas as pd"
      ]
    },
    {
      "cell_type": "code",
      "source": [
        "!wget https://raw.githubusercontent.com/ark1st/tuto_AI/main/dataset/gene.csv"
      ],
      "metadata": {
        "id": "0NRSZADXCxRP"
      },
      "execution_count": null,
      "outputs": []
    },
    {
      "cell_type": "code",
      "source": [
        "df = pd.read_csv(\"/content/gene.csv\", header=None)"
      ],
      "metadata": {
        "id": "rydYK0OHu2nF"
      },
      "execution_count": null,
      "outputs": []
    },
    {
      "cell_type": "code",
      "source": [
        "X = df.iloc[:, 0:52]  # 0에서 53번째 열을 X로 저장\n",
        "Y = df.iloc[:, 53]   # 54번째 열을 Y로 저장"
      ],
      "metadata": {
        "id": "zwhBnH3xPyY7"
      },
      "execution_count": null,
      "outputs": []
    },
    {
      "cell_type": "code",
      "source": [
        "from sklearn.model_selection import train_test_split\n",
        "\n",
        "X_train, X_test, Y_train, Y_test = train_test_split(X, Y, test_size=0.33, random_state=138)"
      ],
      "metadata": {
        "id": "KJaYTOUiNE_8"
      },
      "execution_count": null,
      "outputs": []
    },
    {
      "cell_type": "code",
      "source": [
        "#순차적인 모델을 만들것이다. 위에서부터 아래로 쌓는다.\n",
        "model = Sequential()\n",
        "\n",
        "#Dense Layer : 모든 뉴런마다 인풋이 전부 연결된 레이어\n",
        "#Output 1개, input도 1개\n",
        "model.add(Dense(32, input_shape=(52,), activation = 'relu'))\n",
        "model.add(Dense(64, activation = 'relu'))\n",
        "model.add(Dense(1, activation = 'sigmoid'))\n",
        "\n",
        "model.summary()"
      ],
      "metadata": {
        "colab": {
          "base_uri": "https://localhost:8080/"
        },
        "id": "Xytt-os9u2jI",
        "outputId": "e3efc9d2-cfc6-4f56-a14b-850d9947bab2"
      },
      "execution_count": null,
      "outputs": [
        {
          "output_type": "stream",
          "name": "stdout",
          "text": [
            "Model: \"sequential_8\"\n",
            "_________________________________________________________________\n",
            " Layer (type)                Output Shape              Param #   \n",
            "=================================================================\n",
            " dense_24 (Dense)            (None, 32)                1696      \n",
            "                                                                 \n",
            " dense_25 (Dense)            (None, 64)                2112      \n",
            "                                                                 \n",
            " dense_26 (Dense)            (None, 1)                 65        \n",
            "                                                                 \n",
            "=================================================================\n",
            "Total params: 3873 (15.13 KB)\n",
            "Trainable params: 3873 (15.13 KB)\n",
            "Non-trainable params: 0 (0.00 Byte)\n",
            "_________________________________________________________________\n"
          ]
        }
      ]
    },
    {
      "cell_type": "code",
      "source": [
        "model.compile(optimizer = Adam(lr=0.01), loss = 'binary_crossentropy', metrics=['acc'])\n",
        "\n",
        "model.fit(X_train, Y_train, epochs=10, batch_size=128, validation_split=0.2)"
      ],
      "metadata": {
        "colab": {
          "base_uri": "https://localhost:8080/"
        },
        "id": "jpr8uncmvoeG",
        "outputId": "2611d438-1d2e-4d1a-ecf2-bfa980f6f268"
      },
      "execution_count": null,
      "outputs": [
        {
          "output_type": "stream",
          "name": "stderr",
          "text": [
            "WARNING:absl:`lr` is deprecated in Keras optimizer, please use `learning_rate` or use the legacy optimizer, e.g.,tf.keras.optimizers.legacy.Adam.\n"
          ]
        },
        {
          "output_type": "stream",
          "name": "stdout",
          "text": [
            "Epoch 1/10\n",
            "42/42 [==============================] - 1s 9ms/step - loss: 0.5711 - acc: 0.7073 - val_loss: 0.3361 - val_acc: 0.8567\n",
            "Epoch 2/10\n",
            "42/42 [==============================] - 0s 5ms/step - loss: 0.2495 - acc: 0.9112 - val_loss: 0.1776 - val_acc: 0.9388\n",
            "Epoch 3/10\n",
            "42/42 [==============================] - 0s 4ms/step - loss: 0.1587 - acc: 0.9455 - val_loss: 0.1309 - val_acc: 0.9522\n",
            "Epoch 4/10\n",
            "42/42 [==============================] - 0s 6ms/step - loss: 0.1206 - acc: 0.9601 - val_loss: 0.1004 - val_acc: 0.9649\n",
            "Epoch 5/10\n",
            "42/42 [==============================] - 0s 7ms/step - loss: 0.0973 - acc: 0.9672 - val_loss: 0.0881 - val_acc: 0.9716\n",
            "Epoch 6/10\n",
            "42/42 [==============================] - 0s 7ms/step - loss: 0.0874 - acc: 0.9703 - val_loss: 0.0790 - val_acc: 0.9716\n",
            "Epoch 7/10\n",
            "42/42 [==============================] - 0s 6ms/step - loss: 0.0755 - acc: 0.9735 - val_loss: 0.0656 - val_acc: 0.9769\n",
            "Epoch 8/10\n",
            "42/42 [==============================] - 0s 6ms/step - loss: 0.0640 - acc: 0.9804 - val_loss: 0.0581 - val_acc: 0.9769\n",
            "Epoch 9/10\n",
            "42/42 [==============================] - 0s 7ms/step - loss: 0.0600 - acc: 0.9785 - val_loss: 0.0547 - val_acc: 0.9769\n",
            "Epoch 10/10\n",
            "42/42 [==============================] - 0s 7ms/step - loss: 0.0496 - acc: 0.9843 - val_loss: 0.0503 - val_acc: 0.9821\n"
          ]
        },
        {
          "output_type": "execute_result",
          "data": {
            "text/plain": [
              "<keras.src.callbacks.History at 0x78166193f430>"
            ]
          },
          "metadata": {},
          "execution_count": 34
        }
      ]
    },
    {
      "cell_type": "code",
      "source": [
        "Y_pred = model.predict(X_test)\n",
        "Y_pred = Y_pred.round()"
      ],
      "metadata": {
        "colab": {
          "base_uri": "https://localhost:8080/"
        },
        "id": "asPIejGrXm96",
        "outputId": "7cfd7c38-f068-4775-c3a7-8d08b36f3dde"
      },
      "execution_count": null,
      "outputs": [
        {
          "output_type": "stream",
          "name": "stdout",
          "text": [
            "104/104 [==============================] - 0s 2ms/step\n"
          ]
        }
      ]
    },
    {
      "cell_type": "code",
      "source": [
        "from sklearn.metrics import classification_report\n",
        "\n",
        "print(classification_report(Y_test, Y_pred))"
      ],
      "metadata": {
        "colab": {
          "base_uri": "https://localhost:8080/"
        },
        "id": "BH3qkAegXp4G",
        "outputId": "7fe7252a-ed65-4e43-b63b-fc51621d2df5"
      },
      "execution_count": null,
      "outputs": [
        {
          "output_type": "stream",
          "name": "stdout",
          "text": [
            "              precision    recall  f1-score   support\n",
            "\n",
            "           0       0.98      0.97      0.97      1388\n",
            "           1       0.98      0.98      0.98      1912\n",
            "\n",
            "    accuracy                           0.98      3300\n",
            "   macro avg       0.98      0.98      0.98      3300\n",
            "weighted avg       0.98      0.98      0.98      3300\n",
            "\n"
          ]
        }
      ]
    },
    {
      "cell_type": "code",
      "source": [],
      "metadata": {
        "id": "JntPuIpYXzgu"
      },
      "execution_count": null,
      "outputs": []
    }
  ]
}