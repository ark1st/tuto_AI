{
  "nbformat": 4,
  "nbformat_minor": 0,
  "metadata": {
    "colab": {
      "provenance": []
    },
    "kernelspec": {
      "name": "python3",
      "display_name": "Python 3"
    },
    "language_info": {
      "name": "python"
    }
  },
  "cells": [
    {
      "cell_type": "code",
      "execution_count": null,
      "metadata": {
        "id": "g5TEDU_Tt4qX"
      },
      "outputs": [],
      "source": [
        "from tensorflow import keras\n",
        "from tensorflow.keras.models import Sequential\n",
        "from tensorflow.keras.layers import Dense\n",
        "from tensorflow.keras.optimizers import SGD\n",
        "\n",
        "\n",
        "%matplotlib inline\n",
        "import matplotlib.pyplot as plt\n",
        "import numpy as np\n",
        "import pandas as pd"
      ]
    },
    {
      "cell_type": "code",
      "source": [
        "x = np.array([-50, -40, -30, -20, -10, -5, 0, 5, 10, 20, 30, 40, 50])\n",
        "y = np.array([0, 0, 0, 0, 0, 0, 0, 0, 1, 1, 1, 1, 1]) # 숫자 10부터 1"
      ],
      "metadata": {
        "id": "rydYK0OHu2nF"
      },
      "execution_count": null,
      "outputs": []
    },
    {
      "cell_type": "code",
      "source": [
        "#순차적인 모델을 만들것이다. 위에서부터 아래로 쌓는다.\n",
        "model = Sequential()\n",
        "\n",
        "#Dense Layer : 모든 뉴런마다 인풋이 전부 연결된 레이어\n",
        "#Output 1개, input도 1개\n",
        "model.add(Dense(1, input_shape=(1,), activation = 'sigmoid'))\n",
        "\n",
        "model.summary()"
      ],
      "metadata": {
        "colab": {
          "base_uri": "https://localhost:8080/"
        },
        "id": "Xytt-os9u2jI",
        "outputId": "ad424c04-e375-4b89-958e-f3b06c2d23df"
      },
      "execution_count": null,
      "outputs": [
        {
          "output_type": "stream",
          "name": "stdout",
          "text": [
            "Model: \"sequential_4\"\n",
            "_________________________________________________________________\n",
            " Layer (type)                Output Shape              Param #   \n",
            "=================================================================\n",
            " dense_4 (Dense)             (None, 1)                 2         \n",
            "                                                                 \n",
            "=================================================================\n",
            "Total params: 2 (8.00 Byte)\n",
            "Trainable params: 2 (8.00 Byte)\n",
            "Non-trainable params: 0 (0.00 Byte)\n",
            "_________________________________________________________________\n"
          ]
        }
      ]
    },
    {
      "cell_type": "code",
      "source": [
        "model.compile(optimizer = SGD(lr=0.001), loss = 'binary_crossentropy', metrics=['acc'])\n",
        "\n",
        "model.fit(x, y, epochs=100, batch_size=1)"
      ],
      "metadata": {
        "colab": {
          "base_uri": "https://localhost:8080/"
        },
        "id": "jpr8uncmvoeG",
        "outputId": "64063c61-53da-411b-dc58-960361a543a9"
      },
      "execution_count": null,
      "outputs": [
        {
          "output_type": "stream",
          "name": "stderr",
          "text": [
            "WARNING:absl:`lr` is deprecated in Keras optimizer, please use `learning_rate` or use the legacy optimizer, e.g.,tf.keras.optimizers.legacy.SGD.\n"
          ]
        },
        {
          "output_type": "stream",
          "name": "stdout",
          "text": [
            "Epoch 1/100\n",
            "13/13 [==============================] - 1s 8ms/step - loss: 0.1161 - acc: 0.9231\n",
            "Epoch 2/100\n",
            "13/13 [==============================] - 0s 8ms/step - loss: 0.1156 - acc: 0.9231\n",
            "Epoch 3/100\n",
            "13/13 [==============================] - 0s 4ms/step - loss: 0.1154 - acc: 0.9231\n",
            "Epoch 4/100\n",
            "13/13 [==============================] - 0s 4ms/step - loss: 0.1148 - acc: 0.9231\n",
            "Epoch 5/100\n",
            "13/13 [==============================] - 0s 4ms/step - loss: 0.1142 - acc: 0.9231\n",
            "Epoch 6/100\n",
            "13/13 [==============================] - 0s 3ms/step - loss: 0.1140 - acc: 0.9231\n",
            "Epoch 7/100\n",
            "13/13 [==============================] - 0s 4ms/step - loss: 0.1136 - acc: 0.9231\n",
            "Epoch 8/100\n",
            "13/13 [==============================] - 0s 3ms/step - loss: 0.1134 - acc: 0.9231\n",
            "Epoch 9/100\n",
            "13/13 [==============================] - 0s 4ms/step - loss: 0.1129 - acc: 0.9231\n",
            "Epoch 10/100\n",
            "13/13 [==============================] - 0s 3ms/step - loss: 0.1124 - acc: 0.9231\n",
            "Epoch 11/100\n",
            "13/13 [==============================] - 0s 3ms/step - loss: 0.1120 - acc: 0.9231\n",
            "Epoch 12/100\n",
            "13/13 [==============================] - 0s 4ms/step - loss: 0.1115 - acc: 0.9231\n",
            "Epoch 13/100\n",
            "13/13 [==============================] - 0s 5ms/step - loss: 0.1114 - acc: 0.9231\n",
            "Epoch 14/100\n",
            "13/13 [==============================] - 0s 2ms/step - loss: 0.1106 - acc: 0.9231\n",
            "Epoch 15/100\n",
            "13/13 [==============================] - 0s 2ms/step - loss: 0.1104 - acc: 0.9231\n",
            "Epoch 16/100\n",
            "13/13 [==============================] - 0s 2ms/step - loss: 0.1101 - acc: 0.9231\n",
            "Epoch 17/100\n",
            "13/13 [==============================] - 0s 2ms/step - loss: 0.1098 - acc: 0.9231\n",
            "Epoch 18/100\n",
            "13/13 [==============================] - 0s 2ms/step - loss: 0.1094 - acc: 0.9231\n",
            "Epoch 19/100\n",
            "13/13 [==============================] - 0s 3ms/step - loss: 0.1092 - acc: 0.9231\n",
            "Epoch 20/100\n",
            "13/13 [==============================] - 0s 2ms/step - loss: 0.1085 - acc: 0.9231\n",
            "Epoch 21/100\n",
            "13/13 [==============================] - 0s 2ms/step - loss: 0.1081 - acc: 0.9231\n",
            "Epoch 22/100\n",
            "13/13 [==============================] - 0s 2ms/step - loss: 0.1078 - acc: 0.9231\n",
            "Epoch 23/100\n",
            "13/13 [==============================] - 0s 2ms/step - loss: 0.1076 - acc: 0.9231\n",
            "Epoch 24/100\n",
            "13/13 [==============================] - 0s 2ms/step - loss: 0.1071 - acc: 0.9231\n",
            "Epoch 25/100\n",
            "13/13 [==============================] - 0s 2ms/step - loss: 0.1069 - acc: 0.9231\n",
            "Epoch 26/100\n",
            "13/13 [==============================] - 0s 2ms/step - loss: 0.1067 - acc: 0.9231\n",
            "Epoch 27/100\n",
            "13/13 [==============================] - 0s 3ms/step - loss: 0.1062 - acc: 0.9231\n",
            "Epoch 28/100\n",
            "13/13 [==============================] - 0s 2ms/step - loss: 0.1059 - acc: 0.9231\n",
            "Epoch 29/100\n",
            "13/13 [==============================] - 0s 2ms/step - loss: 0.1056 - acc: 0.9231\n",
            "Epoch 30/100\n",
            "13/13 [==============================] - 0s 2ms/step - loss: 0.1053 - acc: 0.9231\n",
            "Epoch 31/100\n",
            "13/13 [==============================] - 0s 2ms/step - loss: 0.1050 - acc: 0.9231\n",
            "Epoch 32/100\n",
            "13/13 [==============================] - 0s 3ms/step - loss: 0.1045 - acc: 0.9231\n",
            "Epoch 33/100\n",
            "13/13 [==============================] - 0s 2ms/step - loss: 0.1042 - acc: 0.9231\n",
            "Epoch 34/100\n",
            "13/13 [==============================] - 0s 2ms/step - loss: 0.1038 - acc: 0.9231\n",
            "Epoch 35/100\n",
            "13/13 [==============================] - 0s 2ms/step - loss: 0.1035 - acc: 0.9231\n",
            "Epoch 36/100\n",
            "13/13 [==============================] - 0s 2ms/step - loss: 0.1031 - acc: 0.9231\n",
            "Epoch 37/100\n",
            "13/13 [==============================] - 0s 2ms/step - loss: 0.1030 - acc: 0.9231\n",
            "Epoch 38/100\n",
            "13/13 [==============================] - 0s 2ms/step - loss: 0.1026 - acc: 0.9231\n",
            "Epoch 39/100\n",
            "13/13 [==============================] - 0s 3ms/step - loss: 0.1023 - acc: 0.9231\n",
            "Epoch 40/100\n",
            "13/13 [==============================] - 0s 2ms/step - loss: 0.1018 - acc: 0.9231\n",
            "Epoch 41/100\n",
            "13/13 [==============================] - 0s 3ms/step - loss: 0.1016 - acc: 0.9231\n",
            "Epoch 42/100\n",
            "13/13 [==============================] - 0s 2ms/step - loss: 0.1014 - acc: 0.9231\n",
            "Epoch 43/100\n",
            "13/13 [==============================] - 0s 2ms/step - loss: 0.1011 - acc: 0.9231\n",
            "Epoch 44/100\n",
            "13/13 [==============================] - 0s 2ms/step - loss: 0.1008 - acc: 0.9231\n",
            "Epoch 45/100\n",
            "13/13 [==============================] - 0s 2ms/step - loss: 0.1007 - acc: 0.9231\n",
            "Epoch 46/100\n",
            "13/13 [==============================] - 0s 3ms/step - loss: 0.1003 - acc: 0.9231\n",
            "Epoch 47/100\n",
            "13/13 [==============================] - 0s 2ms/step - loss: 0.1001 - acc: 0.9231\n",
            "Epoch 48/100\n",
            "13/13 [==============================] - 0s 2ms/step - loss: 0.0997 - acc: 0.9231\n",
            "Epoch 49/100\n",
            "13/13 [==============================] - 0s 2ms/step - loss: 0.0994 - acc: 0.9231\n",
            "Epoch 50/100\n",
            "13/13 [==============================] - 0s 2ms/step - loss: 0.0993 - acc: 0.9231\n",
            "Epoch 51/100\n",
            "13/13 [==============================] - 0s 2ms/step - loss: 0.0991 - acc: 0.9231\n",
            "Epoch 52/100\n",
            "13/13 [==============================] - 0s 2ms/step - loss: 0.0985 - acc: 0.9231\n",
            "Epoch 53/100\n",
            "13/13 [==============================] - 0s 3ms/step - loss: 0.0984 - acc: 0.9231\n",
            "Epoch 54/100\n",
            "13/13 [==============================] - 0s 2ms/step - loss: 0.0980 - acc: 0.9231\n",
            "Epoch 55/100\n",
            "13/13 [==============================] - 0s 3ms/step - loss: 0.0978 - acc: 0.9231\n",
            "Epoch 56/100\n",
            "13/13 [==============================] - 0s 2ms/step - loss: 0.0975 - acc: 0.9231\n",
            "Epoch 57/100\n",
            "13/13 [==============================] - 0s 2ms/step - loss: 0.0975 - acc: 0.9231\n",
            "Epoch 58/100\n",
            "13/13 [==============================] - 0s 2ms/step - loss: 0.0971 - acc: 0.9231\n",
            "Epoch 59/100\n",
            "13/13 [==============================] - 0s 2ms/step - loss: 0.0967 - acc: 0.9231\n",
            "Epoch 60/100\n",
            "13/13 [==============================] - 0s 5ms/step - loss: 0.0965 - acc: 0.9231\n",
            "Epoch 61/100\n",
            "13/13 [==============================] - 0s 4ms/step - loss: 0.0964 - acc: 0.9231\n",
            "Epoch 62/100\n",
            "13/13 [==============================] - 0s 3ms/step - loss: 0.0959 - acc: 0.9231\n",
            "Epoch 63/100\n",
            "13/13 [==============================] - 0s 4ms/step - loss: 0.0959 - acc: 0.9231\n",
            "Epoch 64/100\n",
            "13/13 [==============================] - 0s 3ms/step - loss: 0.0956 - acc: 0.9231\n",
            "Epoch 65/100\n",
            "13/13 [==============================] - 0s 3ms/step - loss: 0.0953 - acc: 0.9231\n",
            "Epoch 66/100\n",
            "13/13 [==============================] - 0s 3ms/step - loss: 0.0952 - acc: 0.9231\n",
            "Epoch 67/100\n",
            "13/13 [==============================] - 0s 4ms/step - loss: 0.0949 - acc: 0.9231\n",
            "Epoch 68/100\n",
            "13/13 [==============================] - 0s 3ms/step - loss: 0.0947 - acc: 0.9231\n",
            "Epoch 69/100\n",
            "13/13 [==============================] - 0s 4ms/step - loss: 0.0943 - acc: 0.9231\n",
            "Epoch 70/100\n",
            "13/13 [==============================] - 0s 4ms/step - loss: 0.0942 - acc: 0.9231\n",
            "Epoch 71/100\n",
            "13/13 [==============================] - 0s 3ms/step - loss: 0.0939 - acc: 0.9231\n",
            "Epoch 72/100\n",
            "13/13 [==============================] - 0s 3ms/step - loss: 0.0936 - acc: 0.9231\n",
            "Epoch 73/100\n",
            "13/13 [==============================] - 0s 3ms/step - loss: 0.0933 - acc: 0.9231\n",
            "Epoch 74/100\n",
            "13/13 [==============================] - 0s 3ms/step - loss: 0.0931 - acc: 0.9231\n",
            "Epoch 75/100\n",
            "13/13 [==============================] - 0s 3ms/step - loss: 0.0928 - acc: 0.9231\n",
            "Epoch 76/100\n",
            "13/13 [==============================] - 0s 4ms/step - loss: 0.0927 - acc: 1.0000\n",
            "Epoch 77/100\n",
            "13/13 [==============================] - 0s 3ms/step - loss: 0.0924 - acc: 0.9231\n",
            "Epoch 78/100\n",
            "13/13 [==============================] - 0s 4ms/step - loss: 0.0922 - acc: 0.9231\n",
            "Epoch 79/100\n",
            "13/13 [==============================] - 0s 4ms/step - loss: 0.0920 - acc: 0.9231\n",
            "Epoch 80/100\n",
            "13/13 [==============================] - 0s 3ms/step - loss: 0.0918 - acc: 0.9231\n",
            "Epoch 81/100\n",
            "13/13 [==============================] - 0s 3ms/step - loss: 0.0917 - acc: 0.9231\n",
            "Epoch 82/100\n",
            "13/13 [==============================] - 0s 4ms/step - loss: 0.0915 - acc: 0.9231\n",
            "Epoch 83/100\n",
            "13/13 [==============================] - 0s 3ms/step - loss: 0.0912 - acc: 0.9231\n",
            "Epoch 84/100\n",
            "13/13 [==============================] - 0s 3ms/step - loss: 0.0912 - acc: 1.0000\n",
            "Epoch 85/100\n",
            "13/13 [==============================] - 0s 3ms/step - loss: 0.0909 - acc: 1.0000\n",
            "Epoch 86/100\n",
            "13/13 [==============================] - 0s 3ms/step - loss: 0.0907 - acc: 1.0000\n",
            "Epoch 87/100\n",
            "13/13 [==============================] - 0s 3ms/step - loss: 0.0903 - acc: 1.0000\n",
            "Epoch 88/100\n",
            "13/13 [==============================] - 0s 4ms/step - loss: 0.0902 - acc: 1.0000\n",
            "Epoch 89/100\n",
            "13/13 [==============================] - 0s 3ms/step - loss: 0.0900 - acc: 1.0000\n",
            "Epoch 90/100\n",
            "13/13 [==============================] - 0s 5ms/step - loss: 0.0899 - acc: 0.9231\n",
            "Epoch 91/100\n",
            "13/13 [==============================] - 0s 4ms/step - loss: 0.0895 - acc: 0.9231\n",
            "Epoch 92/100\n",
            "13/13 [==============================] - 0s 3ms/step - loss: 0.0893 - acc: 1.0000\n",
            "Epoch 93/100\n",
            "13/13 [==============================] - 0s 3ms/step - loss: 0.0891 - acc: 0.9231\n",
            "Epoch 94/100\n",
            "13/13 [==============================] - 0s 4ms/step - loss: 0.0890 - acc: 1.0000\n",
            "Epoch 95/100\n",
            "13/13 [==============================] - 0s 3ms/step - loss: 0.0887 - acc: 1.0000\n",
            "Epoch 96/100\n",
            "13/13 [==============================] - 0s 3ms/step - loss: 0.0885 - acc: 0.9231\n",
            "Epoch 97/100\n",
            "13/13 [==============================] - 0s 3ms/step - loss: 0.0882 - acc: 0.9231\n",
            "Epoch 98/100\n",
            "13/13 [==============================] - 0s 3ms/step - loss: 0.0881 - acc: 0.9231\n",
            "Epoch 99/100\n",
            "13/13 [==============================] - 0s 3ms/step - loss: 0.0878 - acc: 0.9231\n",
            "Epoch 100/100\n",
            "13/13 [==============================] - 0s 3ms/step - loss: 0.0878 - acc: 1.0000\n"
          ]
        },
        {
          "output_type": "execute_result",
          "data": {
            "text/plain": [
              "<keras.src.callbacks.History at 0x7c165a6d8910>"
            ]
          },
          "metadata": {},
          "execution_count": 33
        }
      ]
    },
    {
      "cell_type": "code",
      "source": [
        "plt.plot(x, model.predict(x), 'b', x,y, 'k.')"
      ],
      "metadata": {
        "colab": {
          "base_uri": "https://localhost:8080/",
          "height": 482
        },
        "id": "0FowiQFfwuN6",
        "outputId": "59671b81-0005-452a-f224-02a5c2058e3b"
      },
      "execution_count": null,
      "outputs": [
        {
          "output_type": "stream",
          "name": "stdout",
          "text": [
            "1/1 [==============================] - 0s 136ms/step\n"
          ]
        },
        {
          "output_type": "execute_result",
          "data": {
            "text/plain": [
              "[<matplotlib.lines.Line2D at 0x7c1668216110>,\n",
              " <matplotlib.lines.Line2D at 0x7c16682160b0>]"
            ]
          },
          "metadata": {},
          "execution_count": 31
        },
        {
          "output_type": "display_data",
          "data": {
            "text/plain": [
              "<Figure size 640x480 with 1 Axes>"
            ],
            "image/png": "[encoded data removed]"
          },
          "metadata": {}
        }
      ]
    },
    {
      "cell_type": "code",
      "source": [
        "print(model.predict([1, 2, 3, 4, 4.5]))\n",
        "print(model.predict([11, 21, 31, 41, 500]))"
      ],
      "metadata": {
        "colab": {
          "base_uri": "https://localhost:8080/"
        },
        "id": "6gz46u6_xth5",
        "outputId": "ec18f915-fd29-4fd0-bc84-4aec0028fd6c"
      },
      "execution_count": null,
      "outputs": [
        {
          "output_type": "stream",
          "name": "stdout",
          "text": [
            "1/1 [==============================] - 0s 70ms/step\n",
            "[[0.3131604 ]\n",
            " [0.37290865]\n",
            " [0.4368067 ]\n",
            " [0.50287354]\n",
            " [0.5360145 ]]\n",
            "1/1 [==============================] - 0s 41ms/step\n",
            "[[0.86656016]\n",
            " [0.9893042 ]\n",
            " [0.99924153]\n",
            " [0.9999467 ]\n",
            " [1.        ]]\n"
          ]
        }
      ]
    },
    {
      "cell_type": "markdown",
      "source": [
        "# 다중 분류"
      ],
      "metadata": {
        "id": "cd0Ts3Tdza6M"
      }
    },
    {
      "cell_type": "code",
      "source": [],
      "metadata": {
        "id": "Zu-Oq3Tf1OQf"
      },
      "execution_count": null,
      "outputs": []
    },
    {
      "cell_type": "code",
      "source": [],
      "metadata": {
        "id": "XnD4MsD6xwFd"
      },
      "execution_count": null,
      "outputs": []
    }
  ]
}